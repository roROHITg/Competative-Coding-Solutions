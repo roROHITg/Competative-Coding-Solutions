{
 "cells": [
  {
   "cell_type": "markdown",
   "metadata": {},
   "source": [
    "# Question 1: Rat Count House\n",
    "*(Asked in Accenture OnCampus 10 Aug 2022, Slot 1)*\n",
    "\n",
    "## Problem Description\n",
    "The function accepts two positive integers ‘r’ and ‘unit’ and a positive integer array ‘arr’ of size ‘n’ as its argument ‘r’ represents the number of rats present in an area, ‘unit’ is the amount of food each rat consumes and each ith element of array ‘arr’ represents the amount of food present in ‘i+1’ house number, where 0 <= i.\n",
    "\n",
    "**Note:**\n",
    "- Return -1 if the array is null\n",
    "- Return 0 if the total amount of food from all houses is not sufficient for all the rats.\n",
    "- Computed values lie within the integer range.\n",
    "\n",
    "**Example:**\n",
    "```plaintext\n",
    "Input:\n",
    "r: 7\n",
    "unit: 2\n",
    "n: 8\n",
    "arr: 2 8 3 5 7 4 1 2\n",
    "\n",
    "Output:\n",
    "4\n"
   ]
  },
  {
   "cell_type": "code",
   "execution_count": 1,
   "metadata": {},
   "outputs": [
    {
     "name": "stdout",
     "output_type": "stream",
     "text": [
      "4\n"
     ]
    }
   ],
   "source": [
    "def find(r, unit, n, arr):\n",
    "    if n==0:\n",
    "        return -1\n",
    "    total= r*unit\n",
    "    f=0\n",
    "    for i in range(n):\n",
    "        f+= arr[i]\n",
    "        if f>=total:\n",
    "            return i+1\n",
    "        \n",
    "    if f<total:\n",
    "        return 0\n",
    "    \n",
    "r= int(input())\n",
    "unit= int(input())\n",
    "n= int(input())\n",
    "\n",
    "arr= list(map(int,input().split()))\n",
    "\n",
    "print(find(r, unit,n, arr))"
   ]
  }
 ],
 "metadata": {
  "kernelspec": {
   "display_name": "Python 3",
   "language": "python",
   "name": "python3"
  },
  "language_info": {
   "codemirror_mode": {
    "name": "ipython",
    "version": 3
   },
   "file_extension": ".py",
   "mimetype": "text/x-python",
   "name": "python",
   "nbconvert_exporter": "python",
   "pygments_lexer": "ipython3",
   "version": "3.11.4"
  }
 },
 "nbformat": 4,
 "nbformat_minor": 2
}
