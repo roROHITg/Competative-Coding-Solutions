{
 "cells": [
  {
   "cell_type": "markdown",
   "metadata": {},
   "source": [
    "# Question:6\n",
    "*(Asked in Accenture OnCampus 11 Aug 2022, Slot 3)*\n",
    "\n",
    "### You are required to implement the following Function\n",
    "\n",
    "def LargeSmallSum(arr)\n",
    "\n",
    "The function accepts an integers arr of size ’length’ as its arguments you are required to return the sum of second largest  element from the even positions and second smallest from the odd position of given ‘arr’\n",
    "\n",
    "**Assumption:**\n",
    "\n",
    "- All array elements are unique\n",
    "- Treat the 0th position as even\n",
    "**NOTE**\n",
    "\n",
    "- Return 0 if array is empty\n",
    "- Return 0, if array length is 3 or less than 3\n",
    "**Example**\n",
    "```\n",
    "Input\n",
    "\n",
    "arr:3 2 1 7 5 4\n",
    "\n",
    "Output\n",
    "\n",
    "7\n",
    "```\n",
    "**Explanation**\n",
    "\n",
    "- Second largest among even position elements(1 3 5) is 3\n",
    "- Second smallest among odd position element is 4\n",
    "- Thus output is 3+4 = 7\n",
    "**Sample Input**\n",
    "\n",
    "arr:1 8 0 2 3 5 6\n",
    "\n",
    "**Sample Output**\n",
    "\n",
    "8"
   ]
  },
  {
   "cell_type": "code",
   "execution_count": null,
   "metadata": {},
   "outputs": [],
   "source": [
    "def LargeSmallSum(arr):\n",
    "    n= len(arr)\n",
    "    if n<=3:\n",
    "        return 0\n",
    "    even=[]\n",
    "    odd=[]\n",
    "    for i in range(n):\n",
    "        if i%2==0:\n",
    "            even.append(arr[i])\n",
    "        else:\n",
    "            odd.append(arr[i])\n",
    "    \n",
    "    even.sort()\n",
    "    odd.sort()\n",
    "    return even[-2]+odd[1]\n",
    "\n",
    "arr= list(map(int, input().split()))\n",
    "print(LargeSmallSum(arr))"
   ]
  }
 ],
 "metadata": {
  "language_info": {
   "name": "python"
  }
 },
 "nbformat": 4,
 "nbformat_minor": 2
}
