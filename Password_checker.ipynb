{
 "cells": [
  {
   "cell_type": "markdown",
   "metadata": {},
   "source": [
    "# Question 3: Password Checker\n",
    "*(Asked in Accenture OnCampus 10 Aug 2022, Slot 3)*\n",
    "\n",
    "**Problem Description:**\n",
    "\n",
    "You are given a function.\n",
    "int CheckPassword(char str[], int n);\n",
    "The function accepts string str of size n as an argument. Implement the function which returns 1 if given string str is valid password else 0.\n",
    "str is a valid password if it satisfies the below conditions.\n",
    "\n",
    "- – At least 4 characters\n",
    "- – At least one numeric digit\n",
    "- – At Least one Capital Letter\n",
    "- – Must not have space or slash (/)\n",
    "- – Starting character must not be a number\n",
    "**Assumption:**\n",
    "Input string will not be empty.\n",
    "\n",
    "Example:\n",
    "```\n",
    "Input 1:                                 Output 1:\n",
    "aA1_67                                   1\n",
    "Input 2:                                 Output 2:\n",
    "a987 abC012                              0\n",
    "\n",
    "```"
   ]
  },
  {
   "cell_type": "code",
   "execution_count": 1,
   "metadata": {},
   "outputs": [
    {
     "name": "stdout",
     "output_type": "stream",
     "text": [
      "1\n"
     ]
    }
   ],
   "source": [
    "def CheckPassword(s,n):\n",
    "    if n<4:\n",
    "        return 0\n",
    "    if s[0].isdigit():\n",
    "        return 0\n",
    "    cap=0\n",
    "    nu=0\n",
    "    for i in range(n):\n",
    "        if s[i]==' ' or s[i]=='/':\n",
    "            return 0\n",
    "        if s[i]>='A' and s[i]<='Z':\n",
    "            cap+=1\n",
    "        elif s[i].isdigit():\n",
    "            nu+=1\n",
    "    if cap>0 and nu>0:\n",
    "        return 1\n",
    "    else:\n",
    "        return 0\n",
    "\n",
    "s=input()\n",
    "a=len(s)\n",
    "print(CheckPassword(s,a))"
   ]
  }
 ],
 "metadata": {
  "kernelspec": {
   "display_name": "Python 3",
   "language": "python",
   "name": "python3"
  },
  "language_info": {
   "codemirror_mode": {
    "name": "ipython",
    "version": 3
   },
   "file_extension": ".py",
   "mimetype": "text/x-python",
   "name": "python",
   "nbconvert_exporter": "python",
   "pygments_lexer": "ipython3",
   "version": "3.11.4"
  }
 },
 "nbformat": 4,
 "nbformat_minor": 2
}
